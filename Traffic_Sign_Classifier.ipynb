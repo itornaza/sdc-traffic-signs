{
 "cells": [
  {
   "cell_type": "markdown",
   "metadata": {},
   "source": [
    "# Self-Driving Car Engineer Nanodegree\n",
    "\n",
    "## Deep Learning\n",
    "\n",
    "## Project: Build a Traffic Sign Recognition Classifier\n",
    "\n",
    "In this notebook, a template is provided for you to implement your functionality in stages, which is required to successfully complete this project. If additional code is required that cannot be included in the notebook, be sure that the Python code is successfully imported and included in your submission if necessary. \n",
    "\n",
    "> **Note**: Once you have completed all of the code implementations, you need to finalize your work by exporting the iPython Notebook as an HTML document. Before exporting the notebook to html, all of the code cells need to have been run so that reviewers can see the final implementation and output. You can then export the notebook by using the menu above and navigating to  \\n\",\n",
    "    \"**File -> Download as -> HTML (.html)**. Include the finished document along with this notebook as your submission. \n",
    "\n",
    "In addition to implementing code, there is a writeup to complete. The writeup should be completed in a separate file, which can be either a markdown file or a pdf document. There is a [write up template](https://github.com/udacity/CarND-Traffic-Sign-Classifier-Project/blob/master/writeup_template.md) that can be used to guide the writing process. Completing the code template and writeup template will cover all of the [rubric points](https://review.udacity.com/#!/rubrics/481/view) for this project.\n",
    "\n",
    "The [rubric](https://review.udacity.com/#!/rubrics/481/view) contains \"Stand Out Suggestions\" for enhancing the project beyond the minimum requirements. The stand out suggestions are optional. If you decide to pursue the \"stand out suggestions\", you can include the code in this Ipython notebook and also discuss the results in the writeup file.\n",
    "\n",
    "\n",
    ">**Note:** Code and Markdown cells can be executed using the **Shift + Enter** keyboard shortcut. In addition, Markdown cells can be edited by typically double-clicking the cell to enter edit mode."
   ]
  },
  {
   "cell_type": "markdown",
   "metadata": {},
   "source": [
    "---\n",
    "## Step 0: Load The Data"
   ]
  },
  {
   "cell_type": "code",
   "execution_count": 1,
   "metadata": {},
   "outputs": [
    {
     "name": "stdout",
     "output_type": "stream",
     "text": [
      ">> Loaded training, validation and test datasets\n"
     ]
    }
   ],
   "source": [
    "# Load pickled data\n",
    "import pickle\n",
    "\n",
    "# Dataset is stored in the root directory: /traffic-signs-data\n",
    "training_file = \"traffic-signs-data/train.p\"\n",
    "validation_file= \"traffic-signs-data/valid.p\"\n",
    "testing_file = \"traffic-signs-data/test.p\"\n",
    "\n",
    "print(\">> Loaded training, validation and test datasets\")\n",
    "\n",
    "with open(training_file, mode='rb') as f:\n",
    "    train = pickle.load(f)\n",
    "with open(validation_file, mode='rb') as f:\n",
    "    valid = pickle.load(f)\n",
    "with open(testing_file, mode='rb') as f:\n",
    "    test = pickle.load(f)\n",
    "    \n",
    "# Set up datasets\n",
    "X_train, y_train = train['features'], train['labels']\n",
    "X_valid, y_valid = valid['features'], valid['labels']\n",
    "X_test, y_test = test['features'], test['labels']"
   ]
  },
  {
   "cell_type": "markdown",
   "metadata": {},
   "source": [
    "---\n",
    "\n",
    "## Step 1: Dataset Summary & Exploration\n",
    "\n",
    "The pickled data is a dictionary with 4 key/value pairs:\n",
    "\n",
    "- `'features'` is a 4D array containing raw pixel data of the traffic sign images, (num examples, width, height, channels).\n",
    "- `'labels'` is a 1D array containing the label/class id of the traffic sign. The file `signnames.csv` contains id -> name mappings for each id.\n",
    "- `'sizes'` is a list containing tuples, (width, height) representing the original width and height the image.\n",
    "- `'coords'` is a list containing tuples, (x1, y1, x2, y2) representing coordinates of a bounding box around the sign in the image. **THESE COORDINATES ASSUME THE ORIGINAL IMAGE. THE PICKLED DATA CONTAINS RESIZED VERSIONS (32 by 32) OF THESE IMAGES**\n",
    "\n",
    "Complete the basic data summary below. Use python, numpy and/or pandas methods to calculate the data summary rather than hard coding the results. For example, the [pandas shape method](http://pandas.pydata.org/pandas-docs/stable/generated/pandas.DataFrame.shape.html) might be useful for calculating some of the summary results. "
   ]
  },
  {
   "cell_type": "markdown",
   "metadata": {},
   "source": [
    "### Provide a Basic Summary of the Data Set Using Python, Numpy and/or Pandas"
   ]
  },
  {
   "cell_type": "code",
   "execution_count": 2,
   "metadata": {},
   "outputs": [
    {
     "name": "stdout",
     "output_type": "stream",
     "text": [
      "Number of training examples = 34799\n",
      "Number of validation examples = 4410\n",
      "Number of testing examples = 12630\n",
      "Image data shape = (32, 32, 3)\n",
      "Number of classes = 43\n"
     ]
    }
   ],
   "source": [
    "### Replace each question mark with the appropriate value. \n",
    "### Use python, pandas or numpy methods rather than hard coding the results\n",
    "\n",
    "# Indices for the X_train array\n",
    "NUM_EXAMPLES = 0\n",
    "WIDTH = 1\n",
    "HEIGHT = 2\n",
    "RGB_CHANNELS = 3\n",
    "\n",
    "# Number of training examples.\n",
    "n_train = X_train.shape[NUM_EXAMPLES]\n",
    "\n",
    "# Number of validation examples.\n",
    "n_validation = X_valid.shape[NUM_EXAMPLES]\n",
    "\n",
    "# Number of testing examples.\n",
    "n_test = X_test.shape[NUM_EXAMPLES]\n",
    "\n",
    "# What's the shape of an traffic sign image?\n",
    "# The result is in the form of (width, height, channels)\n",
    "image_shape = (X_train.shape[WIDTH], X_train.shape[HEIGHT], X_train.shape[RGB_CHANNELS])\n",
    "\n",
    "# How many unique classes/labels there are in the dataset.\n",
    "# The y_train contains the labels/class id's for the images.\n",
    "# Note: The labels start from 0, so we add one to find the number of categories\n",
    "n_classes = max(y_train) + 1\n",
    "\n",
    "print(\"Number of training examples =\", n_train)\n",
    "print(\"Number of validation examples =\", n_validation)\n",
    "print(\"Number of testing examples =\", n_test)\n",
    "print(\"Image data shape =\", image_shape)\n",
    "print(\"Number of classes =\", n_classes)"
   ]
  },
  {
   "cell_type": "markdown",
   "metadata": {},
   "source": [
    "### Include an exploratory visualization of the dataset"
   ]
  },
  {
   "cell_type": "markdown",
   "metadata": {},
   "source": [
    "Visualize the German Traffic Signs Dataset using the pickled file(s). This is open ended, suggestions include: plotting traffic sign images, plotting the count of each sign, etc. \n",
    "\n",
    "The [Matplotlib](http://matplotlib.org/) [examples](http://matplotlib.org/examples/index.html) and [gallery](http://matplotlib.org/gallery.html) pages are a great resource for doing visualizations in Python.\n",
    "\n",
    "**NOTE:** It's recommended you start with something simple first. If you wish to do more, come back to it after you've completed the rest of the sections. It can be interesting to look at the distribution of classes in the training, validation and test set. Is the distribution the same? Are there more examples of some classes than others?"
   ]
  },
  {
   "cell_type": "code",
   "execution_count": 3,
   "metadata": {},
   "outputs": [
    {
     "name": "stdout",
     "output_type": "stream",
     "text": [
      ">> Dataset histogram\n"
     ]
    },
    {
     "data": {
      "image/png": "[encoded data removed]",
      "text/plain": [
       "<matplotlib.figure.Figure at 0x127112fd0>"
      ]
     },
     "metadata": {},
     "output_type": "display_data"
    },
    {
     "name": "stdout",
     "output_type": "stream",
     "text": [
      ">> Random image with description for image with index #29256\n",
      "14 -> Stop\n"
     ]
    },
    {
     "data": {
      "image/png": "[encoded data removed]",
      "text/plain": [
       "<matplotlib.figure.Figure at 0x127112f60>"
      ]
     },
     "metadata": {},
     "output_type": "display_data"
    }
   ],
   "source": [
    "### Data exploration visualization code goes here.\n",
    "### Feel free to use as many code cells as needed.\n",
    "import csv\n",
    "import random\n",
    "import numpy as np\n",
    "import matplotlib.pyplot as plt\n",
    "# Visualizations will be shown in the notebook.\n",
    "%matplotlib inline\n",
    "\n",
    "# Create a dictionary to hold the class id's and descriptions from the signnames.csv file\n",
    "with open(\"signnames.csv\", 'r') as my_file:\n",
    "    reader = csv.reader(my_file, delimiter=',')\n",
    "    class_id_dict = dict(reader)\n",
    "\n",
    "def plotDataSetHistogram():\n",
    "    \"\"\"Provide a histogram for the training dataset\"\"\"\n",
    "    # Get the data to plot in x and y axes\n",
    "    (x_data, y_data) = np.unique(y_train, return_counts = True)\n",
    "    x_data = x_data.tolist()\n",
    "    y_data = y_data.tolist()\n",
    "    dictionary = dict(zip(x_data, y_data))\n",
    "\n",
    "    # Configure plot\n",
    "    (fig, ax) = plt.subplots()\n",
    "    ax.set_ylabel('Number of sample images')\n",
    "    ax.set_title('Traffic sign id\\'s (0-42)')\n",
    "\n",
    "    # Show plot\n",
    "    print(\">> Dataset histogram\")\n",
    "    plt.bar(list(dictionary.keys()), dictionary.values(), color='purple')\n",
    "    plt.show()\n",
    "\n",
    "def plotRandomImage():    \n",
    "    \"\"\"\n",
    "    Plot a random traffic sign along with it's description.\n",
    "    Returns the index of the random image\n",
    "    \"\"\"\n",
    "    # Get a random image from the training dataset\n",
    "    index = random.randint(0, len(X_train))\n",
    "    image = X_train[index].squeeze()\n",
    "\n",
    "    # Plot the random traffic sign\n",
    "    plt.figure(figsize=(1,1))\n",
    "    plt.imshow(image)    \n",
    "\n",
    "    # Display the classification id and description from the training set \n",
    "    print(\">> Random image with description for image with index #\" + str(index))\n",
    "    print(str(y_train[index]) + \" -> \" + class_id_dict[str(y_train[index])])\n",
    "    \n",
    "    # Return the index of the random image for further use and comparissons\n",
    "    return index\n",
    "\n",
    "plotDataSetHistogram()\n",
    "randomImageIndex = plotRandomImage()"
   ]
  },
  {
   "cell_type": "markdown",
   "metadata": {},
   "source": [
    "----\n",
    "\n",
    "## Step 2: Design and Test a Model Architecture\n",
    "\n",
    "Design and implement a deep learning model that learns to recognize traffic signs. Train and test your model on the [German Traffic Sign Dataset](http://benchmark.ini.rub.de/?section=gtsrb&subsection=dataset).\n",
    "\n",
    "The LeNet-5 implementation shown in the [classroom](https://classroom.udacity.com/nanodegrees/nd013/parts/fbf77062-5703-404e-b60c-95b78b2f3f9e/modules/6df7ae49-c61c-4bb2-a23e-6527e69209ec/lessons/601ae704-1035-4287-8b11-e2c2716217ad/concepts/d4aca031-508f-4e0b-b493-e7b706120f81) at the end of the CNN lesson is a solid starting point. You'll have to change the number of classes and possibly the preprocessing, but aside from that it's plug and play! \n",
    "\n",
    "With the LeNet-5 solution from the lecture, you should expect a validation set accuracy of about 0.89. To meet specifications, the validation set accuracy will need to be at least 0.93. It is possible to get an even higher accuracy, but 0.93 is the minimum for a successful project submission. \n",
    "\n",
    "There are various aspects to consider when thinking about this problem:\n",
    "\n",
    "- Neural network architecture (is the network over or underfitting?)\n",
    "- Play around preprocessing techniques (normalization, rgb to grayscale, etc)\n",
    "- Number of examples per label (some have more than others).\n",
    "- Generate fake data.\n",
    "\n",
    "Here is an example of a [published baseline model on this problem](http://yann.lecun.com/exdb/publis/pdf/sermanet-ijcnn-11.pdf). It's not required to be familiar with the approach used in the paper but, it's good practice to try to read papers like these."
   ]
  },
  {
   "cell_type": "markdown",
   "metadata": {},
   "source": [
    "### Pre-process the Data Set (normalization, grayscale, etc.)"
   ]
  },
  {
   "cell_type": "markdown",
   "metadata": {},
   "source": [
    "Minimally, the image data should be normalized so that the data has mean zero and equal variance. For image data, `(pixel - 128)/ 128` is a quick way to approximately normalize the data and can be used in this project. \n",
    "\n",
    "Other pre-processing steps are optional. You can try different techniques to see if it improves performance. \n",
    "\n",
    "Use the code cell (or multiple code cells, if necessary) to implement the first step of your project."
   ]
  },
  {
   "cell_type": "code",
   "execution_count": 4,
   "metadata": {},
   "outputs": [
    {
     "name": "stdout",
     "output_type": "stream",
     "text": [
      "X_train preprocessed with shape: (32, 32, 1)\n",
      "X_valid preprocessed with shape: (32, 32, 1)\n",
      "X_test preprocessed with shape: (32, 32, 1)\n"
     ]
    },
    {
     "data": {
      "image/png": "[encoded data removed]",
      "text/plain": [
       "<matplotlib.figure.Figure at 0x12ed8ebe0>"
      ]
     },
     "metadata": {},
     "output_type": "display_data"
    }
   ],
   "source": [
    "### Preprocess the data here. It is required to normalize the data. Other preprocessing steps could include \n",
    "### converting to grayscale, etc.\n",
    "### Feel free to use as many code cells as needed.\n",
    "from sklearn.utils import shuffle\n",
    "import cv2\n",
    "\n",
    "def convertImage(train, n):\n",
    "    \"\"\"Converts a train of n images to grayscale and histogram equalization\"\"\"\n",
    "    gray_train = []\n",
    "    for ix in range(0, n):\n",
    "        # Convert to grayscale\n",
    "        image = cv2.cvtColor(train[ix],cv2.COLOR_RGB2GRAY)\n",
    "        # Apply histogram equalization\n",
    "        image = cv2.equalizeHist(image)\n",
    "        # Normalize pixels to [-0.5, 0.5]        \n",
    "        gray_train.append(image)\n",
    "    return gray_train\n",
    "    \n",
    "def normalizeImage(train):\n",
    "    \"\"\"Normalize grayscale images to values in the set of [-0.5, 0.5]\"\"\"\n",
    "    return ( (train / 255.) - 0.5 ).astype(np.float32)\n",
    "    \n",
    "def preprocessImage(train, n, train_name):\n",
    "    \"\"\"Implement the preprocess pipeline\"\"\"\n",
    "    converted_train = convertImage(train, n)\n",
    "    preprocessed_train = np.reshape(converted_train, (-1, 32, 32, 1))\n",
    "    normalized_train = normalizeImage(preprocessed_train)\n",
    "    print(train_name + \" preprocessed with shape: {}\".format(preprocessed_train[0].shape))\n",
    "    return  normalized_train\n",
    "    \n",
    "# Preprocess all datasets\n",
    "X_train = preprocessImage(X_train, n_train, \"X_train\")\n",
    "X_valid = preprocessImage(X_valid, n_validation, \"X_valid\")\n",
    "X_test = preprocessImage(X_test, n_test, \"X_test\")\n",
    "\n",
    "# Plot the same random training image after preprocessing\n",
    "image = X_train[randomImageIndex].squeeze()\n",
    "plt.figure(figsize=(1,1))\n",
    "plt.imshow(image, cmap='gray')\n",
    "\n",
    "# Suffle training data to avoid order learning errors\n",
    "X_train, y_train = shuffle(X_train, y_train)"
   ]
  },
  {
   "cell_type": "markdown",
   "metadata": {},
   "source": [
    "## Set up Tensorflow"
   ]
  },
  {
   "cell_type": "code",
   "execution_count": 5,
   "metadata": {
    "collapsed": true
   },
   "outputs": [],
   "source": [
    "import tensorflow as tf\n",
    "\n",
    "#--------------\n",
    "# Constants\n",
    "#--------------\n",
    "\n",
    "# Data sets\n",
    "EPOCHS = 30\n",
    "BATCH_SIZE = 128\n",
    "\n",
    "# Dropout\n",
    "KEEP_PROB = 0.65\n",
    "KEEP_ALL = 1.0"
   ]
  },
  {
   "cell_type": "markdown",
   "metadata": {},
   "source": [
    "## Model Architecture\n",
    "\n",
    "### Input\n",
    "The architecture accepts a 32x32x1 image as input. The images are already preprocessed and are 1 channel grayscale.\n",
    "\n",
    "### Architecture\n",
    "**Layer 1**: Convolutional. The output shape is 28x28x6.\n",
    "Activation with ReLU.\n",
    "Pooling. The output shape is 14x14x6.\n",
    "\n",
    "**Layer 2**: Convolutional. The output shape is 10x10x16.\n",
    "Activation with ReLU.\n",
    "Pooling. The output shape is 5x5x16.\n",
    "Flatten. Flatten the output shape of the final pooling layer such that it's 1D instead of 3D.\n",
    "\n",
    "**Layer 3**: Fully Connected. This should have 120 outputs.\n",
    "Activation with ReLU.\n",
    "Dropout\n",
    "\n",
    "**Layer 4**: Fully Connected. This should have 84 outputs.\n",
    "Activation with ReLU.\n",
    "Dropout\n",
    "\n",
    "**Layer 5**: Fully Connected (Logits). This has 43 outputs for all the traffic signs.\n",
    "\n",
    "### Output\n",
    "Return the result of the 2nd fully connected layer.\n",
    "\n",
    "Dropout is added to the fully connected layers after activation"
   ]
  },
  {
   "cell_type": "code",
   "execution_count": 6,
   "metadata": {
    "collapsed": true
   },
   "outputs": [],
   "source": [
    "### Define your architecture here.\n",
    "### Feel free to use as many code cells as needed.\n",
    "from tensorflow.contrib.layers import flatten\n",
    "\n",
    "def IonNet(x, keep_prob):    \n",
    "    # Arguments used for tf.truncated_normal, randomly defines variables for the weights and biases for each layer\n",
    "    mu = 0\n",
    "    sigma = 0.1\n",
    "    \n",
    "    # Layer 1: Convolutional. Input = 32x32x1, for grayscale images. Output = 28x28x6.\n",
    "    conv1_W = tf.Variable(tf.truncated_normal(shape=(5, 5, 1, 6), mean = mu, stddev = sigma))\n",
    "    conv1_b = tf.Variable(tf.zeros(6))\n",
    "    conv1   = tf.nn.conv2d(x, conv1_W, strides=[1, 1, 1, 1], padding='VALID') + conv1_b\n",
    "\n",
    "    # Activation.\n",
    "    conv1 = tf.nn.relu(conv1)\n",
    "\n",
    "    # Pooling. Input = 28x28x6. Output = 14x14x6.\n",
    "    conv1 = tf.nn.max_pool(conv1, ksize=[1, 2, 2, 1], strides=[1, 2, 2, 1], padding='VALID')\n",
    "\n",
    "    # Layer 2: Convolutional. Output = 10x10x16.\n",
    "    conv2_W = tf.Variable(tf.truncated_normal(shape=(5, 5, 6, 16), mean = mu, stddev = sigma))\n",
    "    conv2_b = tf.Variable(tf.zeros(16))\n",
    "    conv2   = tf.nn.conv2d(conv1, conv2_W, strides=[1, 1, 1, 1], padding='VALID') + conv2_b\n",
    "    \n",
    "    # Activation.\n",
    "    conv2 = tf.nn.relu(conv2)\n",
    "\n",
    "    # Pooling. Input = 10x10x16. Output = 5x5x16.\n",
    "    conv2 = tf.nn.max_pool(conv2, ksize=[1, 2, 2, 1], strides=[1, 2, 2, 1], padding='VALID')\n",
    "\n",
    "    # Flatten. Input = 5x5x16. Output = 400.\n",
    "    fc0   = flatten(conv2)\n",
    "    \n",
    "    # Layer 3: Fully Connected. Input = 400. Output = 120.\n",
    "    fc1_W = tf.Variable(tf.truncated_normal(shape=(400, 120), mean = mu, stddev = sigma))\n",
    "    fc1_b = tf.Variable(tf.zeros(120))\n",
    "    fc1   = tf.matmul(fc0, fc1_W) + fc1_b\n",
    "    \n",
    "    # Activation and Dropout.\n",
    "    fc1 = tf.nn.relu(fc1)\n",
    "    fc1 = tf.nn.dropout(fc1, keep_prob)\n",
    "\n",
    "    # Layer 4: Fully Connected. Input = 120. Output = 84.\n",
    "    fc2_W  = tf.Variable(tf.truncated_normal(shape=(120, 84), mean = mu, stddev = sigma))\n",
    "    fc2_b  = tf.Variable(tf.zeros(84))\n",
    "    fc2    = tf.matmul(fc1, fc2_W) + fc2_b\n",
    "    \n",
    "    # Activation and Dropout.\n",
    "    fc2 = tf.nn.relu(fc2)\n",
    "    fc2 = tf.nn.dropout(fc2, keep_prob)\n",
    "    \n",
    "    # Layer 5: Fully Connected. Input = 84. Output = 43.\n",
    "    fc3_W  = tf.Variable(tf.truncated_normal(shape=(84, 43), mean = mu, stddev = sigma))\n",
    "    fc3_b  = tf.Variable(tf.zeros(43))\n",
    "    logits = tf.matmul(fc2, fc3_W) + fc3_b\n",
    "    \n",
    "    return logits, conv1, conv2, fc1, fc2"
   ]
  },
  {
   "cell_type": "markdown",
   "metadata": {},
   "source": [
    "## Features and labels"
   ]
  },
  {
   "cell_type": "code",
   "execution_count": 7,
   "metadata": {
    "collapsed": true
   },
   "outputs": [],
   "source": [
    "#--------------------------\n",
    "# Tensorflow placeholders\n",
    "#--------------------------\n",
    "\n",
    "# Data\n",
    "x = tf.placeholder(tf.float32, (None, 32, 32, 1))\n",
    "y = tf.placeholder(tf.int32, (None))\n",
    "\n",
    "# One hot encoding\n",
    "one_hot_y = tf.one_hot(y, 43)\n",
    "\n",
    "# Dropout probability to keep\n",
    "keep_prob = tf.placeholder(tf.float32)"
   ]
  },
  {
   "cell_type": "markdown",
   "metadata": {},
   "source": [
    "### Train, Validate and Test the Model"
   ]
  },
  {
   "cell_type": "markdown",
   "metadata": {},
   "source": [
    "A validation set can be used to assess how well the model is performing. A low accuracy on the training and validation\n",
    "sets imply underfitting. A high accuracy on the training set but low accuracy on the validation set implies overfitting."
   ]
  },
  {
   "cell_type": "markdown",
   "metadata": {},
   "source": [
    "## Training pipeline"
   ]
  },
  {
   "cell_type": "code",
   "execution_count": 8,
   "metadata": {},
   "outputs": [],
   "source": [
    "### Training pipeline\n",
    "rate = 0.000989\n",
    "logits, conv1, conv2, fc1, fc2 = IonNet(x, keep_prob)\n",
    "cross_entropy = tf.nn.softmax_cross_entropy_with_logits(labels=one_hot_y, logits=logits)\n",
    "loss_operation = tf.reduce_mean(cross_entropy)\n",
    "optimizer = tf.train.AdamOptimizer(learning_rate = rate)\n",
    "training_operation = optimizer.minimize(loss_operation)"
   ]
  },
  {
   "cell_type": "markdown",
   "metadata": {},
   "source": [
    "## Model Evaluation"
   ]
  },
  {
   "cell_type": "code",
   "execution_count": 9,
   "metadata": {
    "collapsed": true
   },
   "outputs": [],
   "source": [
    "### Evaluation\n",
    "correct_prediction = tf.equal(tf.argmax(logits, 1), tf.argmax(one_hot_y, 1))\n",
    "accuracy_operation = tf.reduce_mean(tf.cast(correct_prediction, tf.float32))\n",
    "saver = tf.train.Saver()\n",
    "\n",
    "def evaluate(X_data, y_data):\n",
    "    num_examples = len(X_data)\n",
    "    total_accuracy = 0\n",
    "    sess = tf.get_default_session()\n",
    "    for offset in range(0, num_examples, BATCH_SIZE):\n",
    "        batch_x, batch_y = X_data[offset:offset+BATCH_SIZE], y_data[offset:offset+BATCH_SIZE]\n",
    "        accuracy = sess.run(accuracy_operation, feed_dict={\n",
    "            x: batch_x, y: batch_y, keep_prob: KEEP_ALL\n",
    "        })\n",
    "        total_accuracy += (accuracy * len(batch_x))\n",
    "        \n",
    "    return total_accuracy / num_examples"
   ]
  },
  {
   "cell_type": "markdown",
   "metadata": {},
   "source": [
    "## Model Training"
   ]
  },
  {
   "cell_type": "code",
   "execution_count": 10,
   "metadata": {},
   "outputs": [
    {
     "name": "stdout",
     "output_type": "stream",
     "text": [
      "Training...\n",
      "\n",
      "EPOCH 1 ...\n",
      "Validation Accuracy = 0.695\n",
      "\n",
      "EPOCH 2 ...\n",
      "Validation Accuracy = 0.838\n",
      "\n",
      "EPOCH 3 ...\n",
      "Validation Accuracy = 0.874\n",
      "\n",
      "EPOCH 4 ...\n",
      "Validation Accuracy = 0.891\n",
      "\n",
      "EPOCH 5 ...\n",
      "Validation Accuracy = 0.921\n",
      "\n",
      "EPOCH 6 ...\n",
      "Validation Accuracy = 0.929\n",
      "\n",
      "EPOCH 7 ...\n",
      "Validation Accuracy = 0.932\n",
      "\n",
      "EPOCH 8 ...\n",
      "Validation Accuracy = 0.934\n",
      "\n",
      "EPOCH 9 ...\n",
      "Validation Accuracy = 0.946\n",
      "\n",
      "EPOCH 10 ...\n",
      "Validation Accuracy = 0.948\n",
      "\n",
      "EPOCH 11 ...\n",
      "Validation Accuracy = 0.946\n",
      "\n",
      "EPOCH 12 ...\n",
      "Validation Accuracy = 0.952\n",
      "\n",
      "EPOCH 13 ...\n",
      "Validation Accuracy = 0.951\n",
      "\n",
      "EPOCH 14 ...\n",
      "Validation Accuracy = 0.949\n",
      "\n",
      "EPOCH 15 ...\n",
      "Validation Accuracy = 0.951\n",
      "\n",
      "EPOCH 16 ...\n",
      "Validation Accuracy = 0.954\n",
      "\n",
      "EPOCH 17 ...\n",
      "Validation Accuracy = 0.954\n",
      "\n",
      "EPOCH 18 ...\n",
      "Validation Accuracy = 0.961\n",
      "\n",
      "EPOCH 19 ...\n",
      "Validation Accuracy = 0.963\n",
      "\n",
      "EPOCH 20 ...\n",
      "Validation Accuracy = 0.959\n",
      "\n",
      "EPOCH 21 ...\n",
      "Validation Accuracy = 0.957\n",
      "\n",
      "EPOCH 22 ...\n",
      "Validation Accuracy = 0.961\n",
      "\n",
      "EPOCH 23 ...\n",
      "Validation Accuracy = 0.962\n",
      "\n",
      "EPOCH 24 ...\n",
      "Validation Accuracy = 0.957\n",
      "\n",
      "EPOCH 25 ...\n",
      "Validation Accuracy = 0.961\n",
      "\n",
      "EPOCH 26 ...\n",
      "Validation Accuracy = 0.960\n",
      "\n",
      "EPOCH 27 ...\n",
      "Validation Accuracy = 0.960\n",
      "\n",
      "EPOCH 28 ...\n",
      "Validation Accuracy = 0.961\n",
      "\n",
      "EPOCH 29 ...\n",
      "Validation Accuracy = 0.961\n",
      "\n",
      "EPOCH 30 ...\n",
      "Validation Accuracy = 0.962\n",
      "\n",
      "Model saved\n",
      "Trainined 30 epochs in 326.7283101081848 seconds\n"
     ]
    }
   ],
   "source": [
    "### Train your model here.\n",
    "import time\n",
    "\n",
    "# Time the network training\n",
    "start = time.time()\n",
    "\n",
    "with tf.Session() as sess:\n",
    "    sess.run(tf.global_variables_initializer())\n",
    "    num_examples = len(X_train)\n",
    "    \n",
    "    print(\"Training...\")\n",
    "    print()\n",
    "    for i in range(EPOCHS):\n",
    "        X_train, y_train = shuffle(X_train, y_train)\n",
    "        for offset in range(0, num_examples, BATCH_SIZE):\n",
    "            end = offset + BATCH_SIZE\n",
    "            batch_x, batch_y = X_train[offset:end], y_train[offset:end]\n",
    "            sess.run(training_operation, feed_dict={\n",
    "                x: batch_x, y: batch_y, keep_prob: KEEP_PROB\n",
    "            })\n",
    "            \n",
    "        validation_accuracy = evaluate(X_valid, y_valid)\n",
    "        print(\"EPOCH {} ...\".format(i+1))\n",
    "        print(\"Validation Accuracy = {:.3f}\".format(validation_accuracy))\n",
    "        print()\n",
    "        \n",
    "    saver.save(sess, './lenet')\n",
    "    print(\"Model saved\")\n",
    "\n",
    "# Display the network training time in seconds\n",
    "end = time.time()\n",
    "print(\"Trainined \" + str(EPOCHS) + \" epochs in \" + str(end - start) + \" seconds\")\n",
    "\n",
    "### Calculate and report the accuracy on the training and validation set.\n",
    "### Once a final model architecture is selected, \n",
    "### the accuracy on the test set should be calculated and reported as well.\n",
    "### Feel free to use as many code cells as needed."
   ]
  },
  {
   "cell_type": "markdown",
   "metadata": {},
   "source": [
    "## Evaluate the Model\n",
    "Once you are completely satisfied with your model, evaluate the performance of the model on the test set.\n",
    "\n",
    "Be sure to only do this once!\n",
    "\n",
    "If you were to measure the performance of your trained model on the test set, then improve your model, and then measure the performance of your model on the test set again, that would invalidate your test results. You wouldn't get a true measure of how well your model would perform against real data.\n",
    "\n",
    "You do not need to modify this section."
   ]
  },
  {
   "cell_type": "code",
   "execution_count": 11,
   "metadata": {},
   "outputs": [
    {
     "name": "stdout",
     "output_type": "stream",
     "text": [
      "Training Accuracy = 0.997\n"
     ]
    }
   ],
   "source": [
    "# Training accuracy\n",
    "with tf.Session() as sess:\n",
    "    saver.restore(sess, tf.train.latest_checkpoint('.'))\n",
    "    valid_accuracy = evaluate(X_train, y_train)\n",
    "    print(\"Training Accuracy = {:.3f}\".format(valid_accuracy))"
   ]
  },
  {
   "cell_type": "code",
   "execution_count": 12,
   "metadata": {},
   "outputs": [
    {
     "name": "stdout",
     "output_type": "stream",
     "text": [
      "Validation Accuracy = 0.962\n"
     ]
    }
   ],
   "source": [
    "# Validation accuracy\n",
    "with tf.Session() as sess:\n",
    "    saver.restore(sess, tf.train.latest_checkpoint('.'))\n",
    "    valid_accuracy = evaluate(X_valid, y_valid)\n",
    "    print(\"Validation Accuracy = {:.3f}\".format(valid_accuracy))"
   ]
  },
  {
   "cell_type": "code",
   "execution_count": 13,
   "metadata": {},
   "outputs": [
    {
     "name": "stdout",
     "output_type": "stream",
     "text": [
      "Test Accuracy = 0.935\n"
     ]
    }
   ],
   "source": [
    "# Test accuracy\n",
    "with tf.Session() as sess:\n",
    "    saver.restore(sess, tf.train.latest_checkpoint('.'))\n",
    "    test_accuracy = evaluate(X_test, y_test)\n",
    "    print(\"Test Accuracy = {:.3f}\".format(test_accuracy))"
   ]
  },
  {
   "cell_type": "markdown",
   "metadata": {},
   "source": [
    "---\n",
    "\n",
    "## Step 3: Test a Model on New Images\n",
    "\n",
    "To give yourself more insight into how your model is working, download at least five pictures of German traffic signs from the web and use your model to predict the traffic sign type.\n",
    "\n",
    "You may find `signnames.csv` useful as it contains mappings from the class id (integer) to the actual sign name."
   ]
  },
  {
   "cell_type": "markdown",
   "metadata": {},
   "source": [
    "### Load and Output the Images"
   ]
  },
  {
   "cell_type": "code",
   "execution_count": 14,
   "metadata": {},
   "outputs": [
    {
     "name": "stdout",
     "output_type": "stream",
     "text": [
      "> Web images shape = (32, 32, 3)\n"
     ]
    },
    {
     "data": {
      "image/png": "[encoded data removed]",
      "text/plain": [
       "<matplotlib.figure.Figure at 0x156f6ada0>"
      ]
     },
     "metadata": {},
     "output_type": "display_data"
    }
   ],
   "source": [
    "### Load the images and plot them here.\n",
    "### Feel free to use as many code cells as needed.\n",
    "from matplotlib.pyplot import figure, imshow\n",
    "import matplotlib.image as mpimg\n",
    "\n",
    "# Get the web images \n",
    "web_images = [\n",
    "    mpimg.imread(\"traffic-signs-web/tf-1.jpeg\"),\n",
    "    mpimg.imread(\"traffic-signs-web/tf-2.jpeg\"),\n",
    "    mpimg.imread(\"traffic-signs-web/tf-3.jpeg\"),\n",
    "    mpimg.imread(\"traffic-signs-web/tf-4.jpeg\"),\n",
    "    mpimg.imread(\"traffic-signs-web/tf-5.jpeg\")\n",
    "]\n",
    "\n",
    "# Expected labels for the web images\n",
    "y_web_images = [14, 3, 12, 9, 18]\n",
    "n_web_images = len(y_web_images)\n",
    "\n",
    "def showImages(images, n_images):\n",
    "    \"\"\"Display images horizontaly\"\"\"\n",
    "    fig = plt.figure(figsize=(15, 15))\n",
    "    for ix in range(1, n_images + 1):\n",
    "        sub = plt.subplot(4, 2, ix)\n",
    "        plt.title(str(y_web_images[ix - 1]) + \" -> \" + \n",
    "                  class_id_dict[str(y_web_images[ix - 1])])\n",
    "        imshow(images[ix - 1])\n",
    "\n",
    "# Display traffic signs along with their expected label\n",
    "showImages(web_images, n_web_images)\n",
    "print(\"> Web images shape = \" + str(web_images[0].shape))\n"
   ]
  },
  {
   "cell_type": "markdown",
   "metadata": {},
   "source": [
    "### Predict the Sign Type for Each Image"
   ]
  },
  {
   "cell_type": "code",
   "execution_count": 15,
   "metadata": {},
   "outputs": [
    {
     "name": "stdout",
     "output_type": "stream",
     "text": [
      "X_web_images preprocessed with shape: (32, 32, 1)\n",
      "\n",
      "Recognized 5 out of 5 images\n"
     ]
    }
   ],
   "source": [
    "### Run the predictions here and use the model to output the prediction for each image.\n",
    "### Make sure to pre-process the images with the same pre-processing pipeline used earlier.\n",
    "### Feel free to use as many code cells as needed.\n",
    "\n",
    "def imagesRecognized(accuracy):\n",
    "    \"\"\"Map accuracy to number of images recognized\"\"\"\n",
    "    recognized_images = 0\n",
    "    if accuracy == 0.2:\n",
    "        recognized_images = 1\n",
    "    elif accuracy == 0.4:\n",
    "        recognized_images = 2\n",
    "    elif accuracy == 0.6:\n",
    "        recognized_images = 3\n",
    "    elif accuracy == 0.8:\n",
    "        recognized_images = 4\n",
    "    elif accuracy == 1.0:\n",
    "        recognized_images = 5\n",
    "    else:\n",
    "        recognized_images = 0\n",
    "    return recognized_images\n",
    "\n",
    "# Preprocessed images to classify\n",
    "X_web_images = np.zeros((5, 32, 32, 1))\n",
    "X_web_images = preprocessImage(web_images, n_web_images, \"X_web_images\")\n",
    "\n",
    "with tf.Session() as sess:\n",
    "    saver.restore(sess, tf.train.latest_checkpoint('.'))\n",
    "    web_images_accuracy = evaluate(X_web_images, y_web_images)\n",
    "    print(\"\\nRecognized \" + str(imagesRecognized(web_images_accuracy)) + \" out of 5 images\")"
   ]
  },
  {
   "cell_type": "markdown",
   "metadata": {},
   "source": [
    "### Analyze Performance"
   ]
  },
  {
   "cell_type": "code",
   "execution_count": 16,
   "metadata": {},
   "outputs": [
    {
     "name": "stdout",
     "output_type": "stream",
     "text": [
      "Web Images Accuracy = 1.000\n"
     ]
    }
   ],
   "source": [
    "### Calculate the accuracy for these 5 new images. \n",
    "### For example, if the model predicted 1 out of 5 signs correctly, it's 20% accurate on these new images.\n",
    "print(\"Web Images Accuracy = {:.3f}\".format(web_images_accuracy))"
   ]
  },
  {
   "cell_type": "markdown",
   "metadata": {},
   "source": [
    "### Output Top 5 Softmax Probabilities For Each Image Found on the Web"
   ]
  },
  {
   "cell_type": "markdown",
   "metadata": {},
   "source": [
    "For each of the new images, print out the model's softmax probabilities to show the **certainty** of the model's predictions (limit the output to the top 5 probabilities for each image). [`tf.nn.top_k`](https://www.tensorflow.org/versions/r0.12/api_docs/python/nn.html#top_k) could prove helpful here. \n",
    "\n",
    "The example below demonstrates how tf.nn.top_k can be used to find the top k predictions for each image.\n",
    "\n",
    "`tf.nn.top_k` will return the values and indices (class ids) of the top k predictions. So if k=3, for each sign, it'll return the 3 largest probabilities (out of a possible 43) and the correspoding class ids.\n",
    "\n",
    "Take this numpy array as an example. The values in the array represent predictions. The array contains softmax probabilities for five candidate images with six possible classes. `tk.nn.top_k` is used to choose the three classes with the highest probability:\n",
    "\n",
    "```\n",
    "# (5, 6) array\n",
    "a = np.array([[ 0.24879643,  0.07032244,  0.12641572,  0.34763842,  0.07893497,\n",
    "         0.12789202],\n",
    "       [ 0.28086119,  0.27569815,  0.08594638,  0.0178669 ,  0.18063401,\n",
    "         0.15899337],\n",
    "       [ 0.26076848,  0.23664738,  0.08020603,  0.07001922,  0.1134371 ,\n",
    "         0.23892179],\n",
    "       [ 0.11943333,  0.29198961,  0.02605103,  0.26234032,  0.1351348 ,\n",
    "         0.16505091],\n",
    "       [ 0.09561176,  0.34396535,  0.0643941 ,  0.16240774,  0.24206137,\n",
    "         0.09155967]])\n",
    "```\n",
    "\n",
    "Running it through `sess.run(tf.nn.top_k(tf.constant(a), k=3))` produces:\n",
    "\n",
    "```\n",
    "TopKV2(values=array([[ 0.34763842,  0.24879643,  0.12789202],\n",
    "       [ 0.28086119,  0.27569815,  0.18063401],\n",
    "       [ 0.26076848,  0.23892179,  0.23664738],\n",
    "       [ 0.29198961,  0.26234032,  0.16505091],\n",
    "       [ 0.34396535,  0.24206137,  0.16240774]]), indices=array([[3, 0, 5],\n",
    "       [0, 1, 4],\n",
    "       [0, 5, 1],\n",
    "       [1, 3, 5],\n",
    "       [1, 4, 3]], dtype=int32))\n",
    "```\n",
    "\n",
    "Looking just at the first row we get `[ 0.34763842,  0.24879643,  0.12789202]`, you can confirm these are the 3 largest probabilities in `a`. You'll also notice `[3, 0, 5]` are the corresponding indices."
   ]
  },
  {
   "cell_type": "code",
   "execution_count": 41,
   "metadata": {
    "scrolled": true
   },
   "outputs": [
    {
     "name": "stdout",
     "output_type": "stream",
     "text": [
      "Probabilities:\n",
      "[[  9.99834180e-01   1.13316572e-04   4.30133987e-05   3.76795447e-06\n",
      "    1.66045470e-06]\n",
      " [  9.96494710e-01   1.99817889e-03   1.50715013e-03   8.58358329e-10\n",
      "    6.70236002e-12]\n",
      " [  9.99996901e-01   3.04991227e-06   8.33377756e-10   7.82860610e-10\n",
      "    3.71022241e-10]\n",
      " [  9.99951482e-01   2.06227487e-05   1.86410725e-05   5.28492637e-06\n",
      "    2.34640243e-06]\n",
      " [  9.99998927e-01   1.08913014e-06   4.37132952e-09   1.12954923e-09\n",
      "    9.24315399e-12]]\n",
      "\n",
      "Indices:\n",
      "[[14 17  1 38 15]\n",
      " [ 3  2  5 19 10]\n",
      " [12 40 14 17 13]\n",
      " [ 9 20 28 12 41]\n",
      " [18 26 27 37 40]]\n",
      "\n",
      ">> Top softmax probabilities match the web images provided\n"
     ]
    }
   ],
   "source": [
    "### Print out the top five softmax probabilities for the predictions on the German traffic sign images found on the web. \n",
    "### Feel free to use as many code cells as needed.\n",
    "\n",
    "# Using the logits that was computed during the model training\n",
    "k = 5\n",
    "softmax = tf.nn.softmax(logits)\n",
    "top_k = tf.nn.top_k(softmax, k)\n",
    "\n",
    "def compareIndicesToExpectedOutputs(indices):\n",
    "    \"\"\"\n",
    "    Test if the top softmax probability for each of the images matches \n",
    "    the expected image\n",
    "    \"\"\"\n",
    "    result = True\n",
    "    ix = 0\n",
    "    for index in indices:\n",
    "        if index[0] != y_web_images[ix]:\n",
    "            result = False\n",
    "        ix = ix + 1\n",
    "    return result\n",
    "\n",
    "with tf.Session() as sess:\n",
    "    sess.run(tf.global_variables_initializer())\n",
    "    new_saver = tf.train.import_meta_graph('./lenet.meta')\n",
    "    new_saver.restore(sess, tf.train.latest_checkpoint('.'))\n",
    "    (values, indices) = sess.run(top_k, feed_dict={x: X_web_images, keep_prob: KEEP_ALL})\n",
    "    \n",
    "# Display the results\n",
    "print(\"Probabilities:\")\n",
    "print(values)\n",
    "print(\"\\nIndices:\")\n",
    "print(indices)\n",
    "    \n",
    "# Compare the top probability for each image with the expected result\n",
    "if compareIndicesToExpectedOutputs(indices):\n",
    "    print(\"\\n>> Top softmax probabilities match the web images provided\")\n",
    "else:\n",
    "    print(\"\\n>> Top softmax probabilities do not match the web images provided\")"
   ]
  },
  {
   "cell_type": "code",
   "execution_count": 57,
   "metadata": {},
   "outputs": [
    {
     "name": "stdout",
     "output_type": "stream",
     "text": [
      "[14]\tStop --> 0.999834\n",
      "[3]\tSpeed limit (60km/h) --> 0.996495\n",
      "[12]\tPriority road --> 0.999997\n",
      "[9]\tNo passing --> 0.999951\n",
      "[18]\tGeneral caution --> 0.999999\n"
     ]
    }
   ],
   "source": [
    "### Softmax probabilities visualization\n",
    "\n",
    "def top_softmax(values, indices):\n",
    "    \"\"\"\n",
    "    Show the top softmax probability for each traffic sign and display\n",
    "    both its name and id\n",
    "    \"\"\"\n",
    "    top_softmax_values = dict()\n",
    "    \n",
    "    print\n",
    "    for ix in range(0, 5):\n",
    "        print(\"[\" + str(indices[ix][0]) + \"]\\t\"  + \n",
    "              class_id_dict[str(indices[ix][0])] + \" --> \" +\n",
    "              str(values[ix][0]))\n",
    "        \n",
    "top_softmax(values, indices)"
   ]
  },
  {
   "cell_type": "markdown",
   "metadata": {},
   "source": [
    "### Project Writeup\n",
    "\n",
    "Once you have completed the code implementation, document your results in a project writeup using this [template](https://github.com/udacity/CarND-Traffic-Sign-Classifier-Project/blob/master/writeup_template.md) as a guide. The writeup can be in a markdown or pdf file. "
   ]
  },
  {
   "cell_type": "markdown",
   "metadata": {},
   "source": [
    "> **Note**: Once you have completed all of the code implementations and successfully answered each question above, you may finalize your work by exporting the iPython Notebook as an HTML document. You can do this by using the menu above and navigating to  \\n\",\n",
    "    \"**File -> Download as -> HTML (.html)**. Include the finished document along with this notebook as your submission."
   ]
  },
  {
   "cell_type": "markdown",
   "metadata": {},
   "source": [
    "---\n",
    "\n",
    "## Step 4 (Optional): Visualize the Neural Network's State with Test Images\n",
    "\n",
    " This Section is not required to complete but acts as an additional excersise for understaning the output of a neural network's weights. While neural networks can be a great learning device they are often referred to as a black box. We can understand what the weights of a neural network look like better by plotting their feature maps. After successfully training your neural network you can see what it's feature maps look like by plotting the output of the network's weight layers in response to a test stimuli image. From these plotted feature maps, it's possible to see what characteristics of an image the network finds interesting. For a sign, maybe the inner network feature maps react with high activation to the sign's boundary outline or to the contrast in the sign's painted symbol.\n",
    "\n",
    " Provided for you below is the function code that allows you to get the visualization output of any tensorflow weight layer you want. The inputs to the function should be a stimuli image, one used during training or a new one you provided, and then the tensorflow variable name that represents the layer's state during the training process, for instance if you wanted to see what the [LeNet lab's](https://classroom.udacity.com/nanodegrees/nd013/parts/fbf77062-5703-404e-b60c-95b78b2f3f9e/modules/6df7ae49-c61c-4bb2-a23e-6527e69209ec/lessons/601ae704-1035-4287-8b11-e2c2716217ad/concepts/d4aca031-508f-4e0b-b493-e7b706120f81) feature maps looked like for it's second convolutional layer you could enter conv2 as the tf_activation variable.\n",
    "\n",
    "For an example of what feature map outputs look like, check out NVIDIA's results in their paper [End-to-End Deep Learning for Self-Driving Cars](https://devblogs.nvidia.com/parallelforall/deep-learning-self-driving-cars/) in the section Visualization of internal CNN State. NVIDIA was able to show that their network's inner weights had high activations to road boundary lines by comparing feature maps from an image with a clear path to one without. Try experimenting with a similar test to show that your trained network's weights are looking for interesting features, whether it's looking at differences in feature maps from images with or without a sign, or even what feature maps look like in a trained network vs a completely untrained one on the same sign image.\n",
    "\n",
    "<figure>\n",
    " <img src=\"visualize_cnn.png\" width=\"380\" alt=\"Combined Image\" />\n",
    " <figcaption>\n",
    " <p></p> \n",
    " <p style=\"text-align: center;\"> Your output should look something like this (above)</p> \n",
    " </figcaption>\n",
    "</figure>\n",
    " <p></p> \n"
   ]
  },
  {
   "cell_type": "code",
   "execution_count": 64,
   "metadata": {},
   "outputs": [],
   "source": [
    "### Visualize your network's feature maps here.\n",
    "### Feel free to use as many code cells as needed.\n",
    "\n",
    "# image_input: the test image being fed into the network to produce the feature maps\n",
    "# tf_activation: should be a tf variable name used during your training procedure that represents the calculated state of a specific weight layer\n",
    "# activation_min/max: can be used to view the activation contrast in more detail, by default matplot sets min and max to the actual min and max values of the output\n",
    "# plt_num: used to plot out multiple different weight feature map sets on the same block, just extend the plt number for each new feature map entry\n",
    "\n",
    "def outputFeatureMap(image_input, tf_activation, activation_min=-1, activation_max=-1 ,plt_num=1):\n",
    "    # Here make sure to preprocess your image_input in a way your network expects\n",
    "    # with size, normalization, ect if needed\n",
    "    # image_input =\n",
    "    # Note: x should be the same name as your network's tensorflow data placeholder variable\n",
    "    # If you get an error tf_activation is not defined it may be having trouble accessing the variable from inside a function\n",
    "    activation = tf_activation.eval(session=sess,feed_dict={x : image_input})\n",
    "    featuremaps = activation.shape[3]\n",
    "    plt.figure(plt_num, figsize=(15,15))\n",
    "    for featuremap in range(featuremaps):\n",
    "        plt.subplot(6,8, featuremap+1) # sets the number of feature maps to show on each row and column\n",
    "        plt.title('FeatureMap ' + str(featuremap)) # displays the feature map number\n",
    "        if activation_min != -1 & activation_max != -1:\n",
    "            plt.imshow(activation[0,:,:, featuremap], interpolation=\"nearest\", vmin =activation_min, vmax=activation_max, cmap=\"gray\")\n",
    "        elif activation_max != -1:\n",
    "            plt.imshow(activation[0,:,:, featuremap], interpolation=\"nearest\", vmax=activation_max, cmap=\"gray\")\n",
    "        elif activation_min !=-1:\n",
    "            plt.imshow(activation[0,:,:, featuremap], interpolation=\"nearest\", vmin=activation_min, cmap=\"gray\")\n",
    "        else:\n",
    "            plt.imshow(activation[0,:,:, featuremap], interpolation=\"nearest\", cmap=\"gray\")"
   ]
  }
 ],
 "metadata": {
  "anaconda-cloud": {},
  "kernelspec": {
   "display_name": "Python 3",
   "language": "python",
   "name": "python3"
  },
  "language_info": {
   "codemirror_mode": {
    "name": "ipython",
    "version": 3
   },
   "file_extension": ".py",
   "mimetype": "text/x-python",
   "name": "python",
   "nbconvert_exporter": "python",
   "pygments_lexer": "ipython3",
   "version": "3.5.2"
  },
  "widgets": {
   "state": {},
   "version": "1.1.2"
  }
 },
 "nbformat": 4,
 "nbformat_minor": 1
}
